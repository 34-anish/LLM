{
  "nbformat": 4,
  "nbformat_minor": 0,
  "metadata": {
    "colab": {
      "provenance": [],
      "collapsed_sections": [
        "LMx4qMhlcnOA",
        "5JzWHcoCc1uC"
      ]
    },
    "kernelspec": {
      "name": "python3",
      "display_name": "Python 3"
    },
    "language_info": {
      "name": "python"
    }
  },
  "cells": [
    {
      "cell_type": "code",
      "source": [],
      "metadata": {
        "id": "SWXCWXPO3hcX"
      },
      "execution_count": null,
      "outputs": []
    },
    {
      "cell_type": "code",
      "source": [
        "!pip install requests beautifulsoup4 --quiet tiktoken prettytable tqdm"
      ],
      "metadata": {
        "id": "Z5kz7db33Oxn"
      },
      "execution_count": null,
      "outputs": []
    },
    {
      "cell_type": "code",
      "source": [
        "import requests\n",
        "from typing import List, Callable, Dict\n",
        "from prettytable import PrettyTable, ALL\n",
        "from tqdm import tqdm\n",
        "import csv\n",
        "import tiktoken\n",
        "import requests\n",
        "from bs4 import BeautifulSoup\n",
        "import firecrawl\n",
        "import getpass\n",
        "\n",
        "FIRECRAWL_API_KEY = getpass.getpass(\"Mendable API Key: \")\n"
      ],
      "metadata": {
        "id": "aaPUs9-m3gXl",
        "outputId": "4c1d4300-6e78-4cfd-9610-f51f019be686",
        "colab": {
          "base_uri": "https://localhost:8080/"
        }
      },
      "execution_count": 44,
      "outputs": [
        {
          "name": "stdout",
          "output_type": "stream",
          "text": [
            "Mendable API Key: ··········\n"
          ]
        }
      ]
    },
    {
      "cell_type": "code",
      "source": [
        "sites = [\n",
        "    {\n",
        "        \"name\": \"Daraz\",\n",
        "        \"url\": \"https://www.daraz.com.np/products/haylou-ls-02-touch-screen-square-shape-smart-watch-heart-monitoring-call-alert-msg-ip68-waterproof-black-i105587015-s1027376026.html?spm=a2a0e.searchlistcategory.sku.1.21774688wvJyXz&search=1\"\n",
        "    },\n",
        "    {\n",
        "        \"name\": \"Amazon\",\n",
        "        \"url\": \"https://www.amazon.in/Memoir-Surgical-Silver-Plated-Stainless/dp/B0771BPK9X/?_encoding=UTF8&pd_rd_w=LeHvj&content-id=amzn1.sym.0009acdf-e53c-4ef1-bf63-a384e1ba591f%3Aamzn1.symc.cdb151ed-d8fe-485d-b383-800c8b0e3fd3&pf_rd_p=0009acdf-e53c-4ef1-bf63-a384e1ba591f&pf_rd_r=FE2909ZA35203CTX8PPP&pd_rd_wg=XLEG1&pd_rd_r=ed7a7a51-162b-4e6e-aa53-7bd4f853ebfe&ref_=pd_hp_d_atf_ci_mcx_mr_hp_atf_m\"\n",
        "    },\n",
        "    {\n",
        "        \"name\": \"Flipkart\",\n",
        "        \"url\": \"https://www.flipkart.com/philips-s1151-03-shaver-men/p/itmf70804a8d10f6?pid=SHVGY2SSQYQU47GV&lid=LSTSHVGY2SSQYQU47GVM471GG&marketplace=FLIPKART&store=zlw%2F79s%2Fu3j&srno=b_1_3&otracker=browse&otracker1=hp_rich_navigation_PINNED_neo%2Fmerchandising_NA_NAV_EXPANDABLE_navigationCard_cc_3_L2_view-all&fm=organic&iid=239dc8f3-0419-4e31-a6cf-23f0e6241998.SHVGY2SSQYQU47GV.SEARCH&ppt=browse&ppn=browse&ssid=8t2ig4ekf40000001716740695571\"\n",
        "    }\n",
        "]"
      ],
      "metadata": {
        "id": "5svJvWdJZPMw"
      },
      "execution_count": 46,
      "outputs": []
    },
    {
      "cell_type": "code",
      "source": [
        "\n",
        "def count_tokens(input_string: str) -> int:\n",
        "    tokenizer = tiktoken.get_encoding(\"cl100k_base\")\n",
        "\n",
        "    tokens = tokenizer.encode(input_string)\n",
        "\n",
        "    return len(tokens)\n",
        "\n",
        "def calculate_cost(input_string: str, cost_per_million_tokens: float = 5) -> float:\n",
        "    num_tokens = count_tokens(input_string)\n",
        "\n",
        "    total_cost = (num_tokens / 1_000_000) * cost_per_million_tokens\n",
        "\n",
        "    return total_cost\n",
        "\n",
        "def view_scraped_content(scrape_url_functions: List[Dict[str, Callable[[str], str]]], sites_list: List[Dict[str, str]], characters_to_display: int = 500, table_max_width: int = 50, cost_per_million_tokens: float = 5) -> List[Dict[str, str]]:\n",
        "    content_table_headers = [\"Site Name\"] + [f\"{func['name']} content\" for func in scrape_url_functions]\n",
        "    cost_table_headers = [\"Site Name\"] + [f\"{func['name']} cost\" for func in scrape_url_functions]\n",
        "\n",
        "    content_table = PrettyTable()\n",
        "    content_table.field_names = content_table_headers\n",
        "\n",
        "    cost_table = PrettyTable()\n",
        "    cost_table.field_names = cost_table_headers\n",
        "\n",
        "    scraped_data = []\n",
        "\n",
        "    for site in sites_list:\n",
        "        content_row = [site['name']]\n",
        "        cost_row = [site['name']]\n",
        "        site_data = {\"provider\": site['name'], \"sites\": []}\n",
        "\n",
        "        for scrape_function in scrape_url_functions:\n",
        "            function_name = scrape_function['name']\n",
        "            try:\n",
        "                content = scrape_function['function'](site['url'])\n",
        "                content_snippet = content[:characters_to_display]\n",
        "                content_row.append(content_snippet)\n",
        "\n",
        "                num_tokens = count_tokens(content)\n",
        "                cost = calculate_cost(num_tokens, cost_per_million_tokens)\n",
        "                cost_row.append(f\"${cost:.6f}\")\n",
        "\n",
        "                site_data[\"sites\"].append({\"name\": function_name, \"content\": content})\n",
        "            except Exception as e:\n",
        "                error_message = f\"Error: {str(e)}\"\n",
        "                content_row.append(error_message)\n",
        "                cost_row.append(\"Error\")\n",
        "\n",
        "                site_data[\"sites\"].append({\"name\": function_name, \"content\": error_message})\n",
        "                continue\n",
        "\n",
        "        content_table.add_row(content_row)\n",
        "        cost_table.add_row(cost_row)\n",
        "        scraped_data.append(site_data)\n",
        "\n",
        "    content_table.max_width = table_max_width\n",
        "    content_table.hrules = ALL\n",
        "\n",
        "    print(\"Content Table:\")\n",
        "    print(content_table)\n",
        "\n",
        "    with open('content_table.csv', 'w', newline='') as csvfile:\n",
        "        writer = csv.writer(csvfile)\n",
        "        writer.writerows(content_table)\n",
        "\n",
        "    return scraped_data\n",
        "\n",
        "def beautiful_soup_scrape_url(url: str) -> str:\n",
        "    try:\n",
        "        response = requests.get(url)\n",
        "        response.raise_for_status()\n",
        "        soup = BeautifulSoup(response.content, 'html.parser')\n",
        "        return str(soup)\n",
        "    except Exception as e:\n",
        "        raise RuntimeError(f\"Error fetching URL {url}: {str(e)}\")\n",
        "\n",
        "def scrape_jina_ai(url: str) -> str:\n",
        "    try:\n",
        "        response = requests.get(\"https://r.jina.ai/\" + url)\n",
        "        response.raise_for_status()\n",
        "        return response.text\n",
        "    except Exception as e:\n",
        "        raise RuntimeError(f\"Error fetching Jina AI URL {url}: {str(e)}\")"
      ],
      "metadata": {
        "id": "K593G9Xh8Lln"
      },
      "execution_count": 42,
      "outputs": []
    },
    {
      "cell_type": "code",
      "source": [
        "scraping_functions = [\n",
        "    {\"name\": \"Beautiful Soup\", \"function\": beautiful_soup_scrape_url},\n",
        "    {\"name\": \"Jina AI\", \"function\": scrape_jina_ai}\n",
        "]\n",
        "view_scraped_content(scraping_functions, sites)"
      ],
      "metadata": {
        "id": "3yw7T3g95W_e",
        "outputId": "efa51c04-f3d0-4ec9-935d-217f4ebf8ad2",
        "colab": {
          "base_uri": "https://localhost:8080/"
        }
      },
      "execution_count": 47,
      "outputs": [
        {
          "output_type": "stream",
          "name": "stderr",
          "text": [
            "Processing site Daraz using Beautiful Soup: 100%|██████████| 1/1 [00:01<00:00,  1.32s/it]\n",
            "Processing site Daraz using Jina AI: 100%|██████████| 1/1 [00:00<00:00,  1.21it/s]\n",
            "Processing site Amazon using Beautiful Soup: 100%|██████████| 1/1 [00:00<00:00,  1.51it/s]\n",
            "Processing site Amazon using Jina AI: 100%|██████████| 1/1 [00:00<00:00,  1.56it/s]\n",
            "Processing site Flipkart using Beautiful Soup: 100%|██████████| 1/1 [00:15<00:00, 15.92s/it]\n",
            "Processing site Flipkart using Jina AI: 100%|██████████| 1/1 [00:00<00:00,  2.78it/s]"
          ]
        },
        {
          "output_type": "stream",
          "name": "stdout",
          "text": [
            "Content Table:\n",
            "+-----------+----------------------------------------------------+----------------------------------------------------+\n",
            "| Site Name |               Beautiful Soup content               |                  Jina AI content                   |\n",
            "+-----------+----------------------------------------------------+----------------------------------------------------+\n",
            "|   Daraz   |                                                    |   Title: Haylou LS-02 Touch Screen Square Shape    |\n",
            "|           | <a href=\"https://bixi.alicdn.com/punish/punish:res |  Smart Watch Heart Monitoring Call Alert Msg IP68  |\n",
            "|           | ource:template:darazSpace:default_30989755.html?qr |                 Waterproof (Black)                 |\n",
            "|           | code=srDpXTjO8YgqMJvGueSZOw|ZlNuCA|GZ0tIw_0&amp;uu |                                                    |\n",
            "|           | id=b2b0e95d38cef1882a309bc6b9e4993b&amp;action=den |                    URL Source:                     |\n",
            "|           | y&amp;origin=https%3A%2F%2Fwww.daraz.com.np%3A443% |     https://www.daraz.com.np/products/haylou-      |\n",
            "|           |   2Fproducts%2Fhaylou-ls-02-touch-screen-square-   | ls-02-touch-screen-square-shape-smart-watch-heart- |\n",
            "|           | shape-smart-watch-heart-monitoring-call-alert-msg- |  monitoring-call-alert-msg-ip68-waterproof-black-  |\n",
            "|           | ip68-waterproof-black-i105587015-s1027376026.html\" |                    i105587015-                     |\n",
            "|           |                  id=\"a-link\"></a>                  | s1027376026.html?search=1&spm=a2a0e.searchlistcate |\n",
            "|           |                          <script>\r                           |             gory.sku.1.21774688wvJyXz              |\n",
            "|           |                          var host = location.host;\r                           |                                                    |\n",
            "|           |                          var parts = host.split('.');\r                           |                 Markdown Content:                  |\n",
            "|           |                 if (parts.length >                 |           *   Model: Xiaomi Haylou LS02            |\n",
            "|           |                                                    |                *   12 sports modes                 |\n",
            "|           |                                                    |              *   20 days of endurance              |\n",
            "|           |                                                    |          *   Intelligent sleep monitoring          |\n",
            "|           |                                                    |                *   Real-time heart                 |\n",
            "+-----------+----------------------------------------------------+----------------------------------------------------+\n",
            "|   Amazon  |                       <html>                       |                  Title: Amazon.in                  |\n",
            "|           |                       <head>                       |                                                    |\n",
            "|           |   <title>503 - Service Unavailable Error</title>   | URL Source: https://www.amazon.in/Memoir-Surgical- |\n",
            "|           |                      </head>                       |                   Silver-Plated-                   |\n",
            "|           |      <body bgcolor=\"#FFFFFF\" text=\"#000000\">       | Stainless/dp/B0771BPK9X/?_encoding=UTF8&content-id |\n",
            "|           |                        <!--                        |        =amzn1.sym.0009acdf-e53c-4ef1-bf63-         |\n",
            "|           |         To discuss automated access to Amazon data |  a384e1ba591f:amzn1.symc.cdb151ed-d8fe-485d-b383-  |\n",
            "|           |  please contact api-services-support@amazon.com.   |   800c8b0e3fd3&pd_rd_r=ed7a7a51-162b-4e6e-aa53-    |\n",
            "|           |           For information about migrating to our   | 7bd4f853ebfe&pd_rd_w=LeHvj&pd_rd_wg=XLEG1&pf_rd_p= |\n",
            "|           |       APIs refer to our Marketplace APIs at        |              0009acdf-e53c-4ef1-bf63-              |\n",
            "|           |  https://developer.amazonservices.in/ref=rm_5_sv,  | a384e1ba591f&pf_rd_r=FE2909ZA35203CTX8PPP&ref_=pd_ |\n",
            "|           |         or our Product Advertising API at          |            hp_d_atf_ci_mcx_mr_hp_atf_m             |\n",
            "|           | https://affiliate-program.amazon.in/gp/advertising |                                                    |\n",
            "|           | /api/detail/main.html/ref=rm_5_ac for advertising  |                 Markdown Content:                  |\n",
            "|           |                     use cases.                     |      #### Enter the characters you see below       |\n",
            "|           |                        -->                         |                                                    |\n",
            "|           |                        <cen                        |            Sorry, we just need to make             |\n",
            "+-----------+----------------------------------------------------+----------------------------------------------------+\n",
            "|  Flipkart |   <html><body><h1>500 Internal Server Error</h1>   | Title: PHILIPS S1151/03  Shaver For Men - PHILIPS  |\n",
            "|           |         An internal server error occurred.         |                   : Flipkart.com                   |\n",
            "|           |                   </body></html>                   |                                                    |\n",
            "|           |                                                    |                    URL Source:                     |\n",
            "|           |                                                    | https://www.flipkart.com/philips-s1151-03-shaver-m |\n",
            "|           |                                                    |   en/p/itmf70804a8d10f6?fm=organic&iid=239dc8f3-   |\n",
            "|           |                                                    |                  0419-4e31-a6cf-                   |\n",
            "|           |                                                    | 23f0e6241998.SHVGY2SSQYQU47GV.SEARCH&lid=LSTSHVGY2 |\n",
            "|           |                                                    | SSQYQU47GVM471GG&marketplace=FLIPKART&otracker=bro |\n",
            "|           |                                                    | wse&otracker1=hp_rich_navigation_PINNED_neo/mercha |\n",
            "|           |                                                    | ndising_NA_NAV_EXPANDABLE_navigationCard_cc_3_L2_v |\n",
            "|           |                                                    | iew-all&pid=SHVGY2SSQYQU47GV&ppn=browse&ppt=browse |\n",
            "|           |                                                    | &srno=b_1_3&ssid=8t2ig4ekf40000001716740695571&sto |\n",
            "|           |                                                    |                    re=zlw/79s/                     |\n",
            "+-----------+----------------------------------------------------+----------------------------------------------------+\n"
          ]
        },
        {
          "output_type": "stream",
          "name": "stderr",
          "text": [
            "\n"
          ]
        },
        {
          "output_type": "execute_result",
          "data": {
            "text/plain": [
              "[{'provider': 'Daraz',\n",
              "  'sites': [{'name': 'Beautiful Soup',\n",
              "    'content': '\\n<a href=\"https://bixi.alicdn.com/punish/punish:resource:template:darazSpace:default_30989755.html?qrcode=srDpXTjO8YgqMJvGueSZOw|ZlNuCA|GZ0tIw_0&amp;uuid=b2b0e95d38cef1882a309bc6b9e4993b&amp;action=deny&amp;origin=https%3A%2F%2Fwww.daraz.com.np%3A443%2Fproducts%2Fhaylou-ls-02-touch-screen-square-shape-smart-watch-heart-monitoring-call-alert-msg-ip68-waterproof-black-i105587015-s1027376026.html\" id=\"a-link\"></a>\\n<script>\\r\\nvar host = location.host;\\r\\nvar parts = host.split(\\'.\\');\\r\\nif (parts.length > 2){\\r\\n  host = parts.pop();\\r\\n  host = \".\" + parts.pop() + \".\" + host;\\r\\n}\\r\\nvar exp = new Date();\\r\\nvar maxAge = -100;\\r\\nexp.setTime(exp.getTime() + maxAge);\\r\\nvar cookie = \"x5secdata=;maxAge=\" + maxAge + \";expires=\" + exp.toUTCString() + \";path=/;domain=\" + host + \";\";\\r\\ndocument.cookie = cookie;\\r\\ndocument.cookie = cookie + \\'Secure;SameSite=None\\';\\r\\ndocument.getElementById(\"a-link\").click();\\r\\n window._config_ = {\\r\\n   \"action\": \"deny\",\\r\\n   \"url\": \"https://bixi.alicdn.com/punish/punish:resource:template:darazSpace:default_30989755.html?qrcode=srDpXTjO8YgqMJvGueSZOw|ZlNuCA|GZ0tIw_0&uuid=b2b0e95d38cef1882a309bc6b9e4993b&action=deny&origin=https%3A%2F%2Fwww.daraz.com.np%3A443%2Fproducts%2Fhaylou-ls-02-touch-screen-square-shape-smart-watch-heart-monitoring-call-alert-msg-ip68-waterproof-black-i105587015-s1027376026.html\"\\r\\n};\\r\\n</script>\\n<!--rgv587_flag:sm-->'},\n",
              "   {'name': 'Jina AI',\n",
              "    'content': 'Title: Haylou LS-02 Touch Screen Square Shape Smart Watch Heart Monitoring Call Alert Msg IP68 Waterproof (Black)\\n\\nURL Source: https://www.daraz.com.np/products/haylou-ls-02-touch-screen-square-shape-smart-watch-heart-monitoring-call-alert-msg-ip68-waterproof-black-i105587015-s1027376026.html?search=1&spm=a2a0e.searchlistcategory.sku.1.21774688wvJyXz\\n\\nMarkdown Content:\\n*   Model: Xiaomi Haylou LS02\\n*   12 sports modes\\n*   20 days of endurance\\n*   Intelligent sleep monitoring\\n*   Real-time heart rate monitoring\\n*   Display 1.4 inch TFT Screen\\n*   Battery 260mAh\\n*   Battery life: 20 days\\n*   Connectivity Bluetooth V5.0\\n*   Material ABS\\n*   SpecialFeatures Sport modes:\\n*   Jogging / Fast walking / Biking / Climbing / Spinning / Yoga / Indoor running / Integrated training / Gymnastics / Basketball / Football / Rowing\\n*   Dustproof and waterproof rate: IP68\\n*   Exterior\\n*   Dimension 48mm\\\\*36mm\\\\*11.5mm\\n*   Weight 38g\\n\\nThe new Haylou LS02smartwatch differs from the previous model with a large 1.4-inch touch screen.The display resolution is 320x320 pixels. The screen is placed under a curved2.5D tempered glass that is resistant to damage. The pixel density is 320ppi. Also,this smartwatch is characterized by long-term battery life. It works up to 20days with 24-hour heart rate monitoring. The smartwatch is connected byBluetooth 5.0. It significantly reduces power consumption and reduces thelikelihood of losing communication between the smartwatch and the smartphone.The smartwatch case is thin and light with a comfortable breathing siliconestrap. The Haylou LS02 smartwatch will be indispensable in sports. Twelvebuilt-in sports modes will help you record and analyze all data, continuallymonitoring your heart rate. The Haylou LS02 smartwatch is protected againstwater and dust according to industry-standard IP67. Automatic sleep monitoringwill help improve the quality of your sleep. You can receive all notifications fromyour smartphone right on your wrist. Calls, received messages, calendar events,application notifications - you will not miss anything important. Haylou LS02enriches a variety of sports modes. Whether it is daily hiking and sailing, youcan set your sports goals, record your sports data, the operation interface issimple and easy to understand, such as personal training on the wrist to helpyour free exercise more self-discipline. Built-in high-performance, low-powerdynamic optical heart rate sensor, automatic detection and detection by theoptical heart rate sensor on the back of the watch, combined with intelligentheart rate algorithm, accurate and detailed recognition of heart rate changes,24-hour real-time online capture of your heart, Let your heart rate changefollow. Haylou LS02 is also a portable smart secretary, with multiple remindersadded to assist you when you are busy, you only need to lift your wrist topreview it, and operate it at your fingertips. When reminded to sit for a longtime, it requires you to get up and adjust your body status reasonably.Compared with the first generation, Haylou LS02 has been upgraded withBluetooth 5.0, the signal distance reception strength has been improved, thepropagation speed is stable and smooth, and it stays connected with the mobilephone in real-time. The low energy consumption mode guarantees the batterylife, such as mobile phone search, mobile phone information reminder, andincoming calls. Reminders, everything can be known by raising your wrist. WithIP68 dustproof and waterproof capability, it meets the daily life and sportswaterproof requirements of sports life. Whether it is sweat or splashed bysmall raindrops, it can cope with it. It can be worn in the bath (only hotbaths below 45° can be worn) and when swimming in the pool, but it is notsuitable for saunas and diving. After watering, please dry the water stainsbefore operating to extend the life of the watch.\\n\\nSpecifications of Haylou LS-02 Touch Screen Square Shape Smart Watch Heart Monitoring Call Alert Msg IP68 Waterproof (Black)\\n----------------------------------------------------------------------------------------------------------------------------\\n\\n*   BrandNo Brand\\n    \\n*   SKU105587015\\\\_NP-1027376026\\n    \\n*   Material TypeOthers\\n    \\n*   MovementSmart\\n    \\n*   Generation6th\\n    \\n*   Watch FeaturesSleep Monitor\\n    \\n*   Display TypeTFT\\n    \\n*   ModelLs-02\\n    \\n\\nWhat’s in the box\\n\\nCharging cable, Smartwatch , User manual\\n'}]},\n",
              " {'provider': 'Amazon',\n",
              "  'sites': [{'name': 'Beautiful Soup',\n",
              "    'content': '<html>\\n<head>\\n<title>503 - Service Unavailable Error</title>\\n</head>\\n<body bgcolor=\"#FFFFFF\" text=\"#000000\">\\n<!--\\n        To discuss automated access to Amazon data please contact api-services-support@amazon.com.\\n        For information about migrating to our APIs refer to our Marketplace APIs at https://developer.amazonservices.in/ref=rm_5_sv, or our Product Advertising API at https://affiliate-program.amazon.in/gp/advertising/api/detail/main.html/ref=rm_5_ac for advertising use cases.\\n-->\\n<center>\\n<a href=\"https://www.amazon.in/ref=cs_503_logo/\">\\n<img alt=\"Amazon.in\" border=\"0\" height=\"45\" src=\"https://images-eu.ssl-images-amazon.com/images/G/31/x-locale/communities/people/logo.gif\" width=\"200\"/></a>\\n<p align=\"center\">\\n<font face=\"Verdana,Arial,Helvetica\">\\n<font color=\"#CC6600\" size=\"+2\"><b>Oops!</b></font><br/>\\n<b>It\\'s rush hour and traffic is piling up on that page. Please try again in a short while.<br/>If you were trying to place an order, it will not have been processed at this time.</b><p>\\n<img alt=\"*\" border=\"0\" height=\"9\" src=\"https://images-eu.ssl-images-amazon.com/images/G/02/x-locale/common/orange-arrow.gif\" width=\"10\"/>\\n<b><a href=\"https://www.amazon.in/ref=cs_503_link/\">Go to the Amazon.in home page to continue shopping</a></b>\\n</p></font>\\n</p></center>\\n</body>\\n</html>\\n'},\n",
              "   {'name': 'Jina AI',\n",
              "    'content': \"Title: Amazon.in\\n\\nURL Source: https://www.amazon.in/Memoir-Surgical-Silver-Plated-Stainless/dp/B0771BPK9X/?_encoding=UTF8&content-id=amzn1.sym.0009acdf-e53c-4ef1-bf63-a384e1ba591f:amzn1.symc.cdb151ed-d8fe-485d-b383-800c8b0e3fd3&pd_rd_r=ed7a7a51-162b-4e6e-aa53-7bd4f853ebfe&pd_rd_w=LeHvj&pd_rd_wg=XLEG1&pf_rd_p=0009acdf-e53c-4ef1-bf63-a384e1ba591f&pf_rd_r=FE2909ZA35203CTX8PPP&ref_=pd_hp_d_atf_ci_mcx_mr_hp_atf_m\\n\\nMarkdown Content:\\n#### Enter the characters you see below\\n\\nSorry, we just need to make sure you're not a robot. For best results, please make sure your browser is accepting cookies.\\n\\n#### Type the characters you see in this image:\\n\\n![Image 1](https://images-na.ssl-images-amazon.com/captcha/wxvwzfzh/Captcha_ieocllkcbv.jpg)\\n\\nTry different image\\n\\n[Conditions of Use & Sale](https://www.amazon.in/gp/help/customer/display.html/ref=footer_cou?ie=UTF8&nodeId=200545940) [Privacy Notice](https://www.amazon.in/gp/help/customer/display.html/ref=footer_privacy?ie=UTF8&nodeId=200534380)\\n\\n© 1996-2015, Amazon.com, Inc. or its affiliates ![Image 2](https://fls-eu.amazon.in/1/oc-csi/1/OP/requestId=VXEGNH5ZJ774NMN422ZN&js=1)\\n\"}]},\n",
              " {'provider': 'Flipkart',\n",
              "  'sites': [{'name': 'Beautiful Soup',\n",
              "    'content': '<html><body><h1>500 Internal Server Error</h1>\\nAn internal server error occurred.\\n</body></html>\\n'},\n",
              "   {'name': 'Jina AI',\n",
              "    'content': 'Title: PHILIPS S1151/03  Shaver For Men - PHILIPS : Flipkart.com\\n\\nURL Source: https://www.flipkart.com/philips-s1151-03-shaver-men/p/itmf70804a8d10f6?fm=organic&iid=239dc8f3-0419-4e31-a6cf-23f0e6241998.SHVGY2SSQYQU47GV.SEARCH&lid=LSTSHVGY2SSQYQU47GVM471GG&marketplace=FLIPKART&otracker=browse&otracker1=hp_rich_navigation_PINNED_neo/merchandising_NA_NAV_EXPANDABLE_navigationCard_cc_3_L2_view-all&pid=SHVGY2SSQYQU47GV&ppn=browse&ppt=browse&srno=b_1_3&ssid=8t2ig4ekf40000001716740695571&store=zlw/79s/u3j\\n\\nMarkdown Content:\\nRegistered Office Address:\\n\\nFlipkart Internet Private Limited,\\n\\nBuildings Alyssa, Begonia &\\n\\nClove Embassy Tech Village,\\n\\nOuter Ring Road, Devarabeesanahalli Village,\\n\\nBengaluru, 560103,\\n\\nKarnataka, India\\n\\nCIN : U51109KA2012PTC066107\\n\\nTelephone: [044-45614700](tel:044-45614700) / [044-67415800](tel:044-67415800)\\n'}]}]"
            ]
          },
          "metadata": {},
          "execution_count": 47
        }
      ]
    }
  ]
}